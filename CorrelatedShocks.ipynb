{
 "cells": [
  {
   "cell_type": "code",
   "execution_count": 2,
   "metadata": {},
   "outputs": [],
   "source": [
    "using Plots, Random, Statistics, Distributions;"
   ]
  },
  {
   "cell_type": "code",
   "execution_count": 3,
   "metadata": {},
   "outputs": [],
   "source": [
    "T=1000;"
   ]
  },
  {
   "cell_type": "code",
   "execution_count": 14,
   "metadata": {},
   "outputs": [],
   "source": [
    "err=randn(T);"
   ]
  },
  {
   "cell_type": "code",
   "execution_count": 15,
   "metadata": {},
   "outputs": [],
   "source": [
    "x=rand(Normal(4,1),1000);"
   ]
  },
  {
   "cell_type": "code",
   "execution_count": 16,
   "metadata": {},
   "outputs": [],
   "source": [
    "corr_coef=0.8;"
   ]
  },
  {
   "cell_type": "code",
   "execution_count": 17,
   "metadata": {},
   "outputs": [],
   "source": [
    "eps=randn(T);"
   ]
  },
  {
   "cell_type": "code",
   "execution_count": 18,
   "metadata": {},
   "outputs": [],
   "source": [
    "for i=2:T\n",
    "    err[i]=corr_coef*err[i-1]+eps[i];\n",
    "end"
   ]
  },
  {
   "cell_type": "code",
   "execution_count": 20,
   "metadata": {},
   "outputs": [
    {
     "data": {
      "text/plain": [
       "1000-element Vector{Float64}:\n",
       "  0.40012693891170875\n",
       "  0.3303052744242809\n",
       " -0.46541616645497325\n",
       "  0.17964001413577266\n",
       "  0.16652971914908402\n",
       "  0.4654763665329238\n",
       " -0.3288042099089908\n",
       "  0.5756781439018421\n",
       "  1.0492344819737163\n",
       "  0.4985255381280436\n",
       " -0.1735740519764957\n",
       "  0.501485758418203\n",
       "  1.782125031417224\n",
       "  ⋮\n",
       "  3.00650931613403\n",
       "  3.0850194973508014\n",
       "  2.0593393242606255\n",
       "  1.4615544888379308\n",
       "  2.13799462333876\n",
       "  0.7202055653389212\n",
       "  1.1965364517468209\n",
       "  2.0438887807995085\n",
       "  1.3842355536523514\n",
       "  1.4888350429630408\n",
       "  1.2965467414173162\n",
       "  1.2128916534718959"
      ]
     },
     "execution_count": 20,
     "metadata": {},
     "output_type": "execute_result"
    }
   ],
   "source": [
    "err=sqrt(1-corr_coef^2)*err"
   ]
  },
  {
   "cell_type": "code",
   "execution_count": 21,
   "metadata": {},
   "outputs": [
    {
     "data": {
      "text/plain": [
       "0.9932718521078383"
      ]
     },
     "execution_count": 21,
     "metadata": {},
     "output_type": "execute_result"
    }
   ],
   "source": [
    "var(err)"
   ]
  },
  {
   "cell_type": "code",
   "execution_count": null,
   "metadata": {},
   "outputs": [],
   "source": []
  }
 ],
 "metadata": {
  "kernelspec": {
   "display_name": "Julia 1.8.2",
   "language": "julia",
   "name": "julia-1.8"
  },
  "language_info": {
   "file_extension": ".jl",
   "mimetype": "application/julia",
   "name": "julia",
   "version": "1.8.2"
  }
 },
 "nbformat": 4,
 "nbformat_minor": 4
}
